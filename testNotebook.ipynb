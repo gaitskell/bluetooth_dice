{
 "cells": [
  {
   "cell_type": "code",
   "execution_count": 2,
   "metadata": {
    "collapsed": true,
    "pycharm": {
     "name": "#%%\n"
    }
   },
   "outputs": [],
   "source": [
    "import sys\n",
    "import platform\n",
    "import asyncio\n",
    "import logging\n",
    "\n",
    "from bleak import BleakClient"
   ]
  },
  {
   "cell_type": "code",
   "execution_count": 3,
   "outputs": [],
   "source": [
    "\n",
    "async def main(address):\n",
    "\n",
    "    logger.info( f\"Called with address = {address}\" )\n",
    "\n",
    "\n",
    "    async with BleakClient(address) as client:\n",
    "        logger.info(f\"Connected: {client.is_connected}\")\n",
    "\n",
    "\n",
    "        for service in client.services:\n",
    "            logger.info(f\"[Service] {service}\")\n",
    "\n",
    "            for char in service.characteristics:\n",
    "                if \"read\" in char.properties:\n",
    "                    try:\n",
    "                        value = bytes(await client.read_gatt_char(char.uuid))\n",
    "\n",
    "                        logger.info(\n",
    "                            f\"\\t[Val Characteristic] {char} ({','.join(char.properties)}), Value: {value}\"\n",
    "                        )\n",
    "\n",
    "                    except Exception as e:\n",
    "                        logger.error(\n",
    "                            f\"\\t[Err Characteristic] {char} ({','.join(char.properties)}), Value: {e}\"\n",
    "                        )\n",
    "\n",
    "                else:\n",
    "                    value = None\n",
    "                    logger.info(\n",
    "                        f\"\\t[None Characteristic] {char} ({','.join(char.properties)}), Value: {value}\"\n",
    "                    )\n",
    "\n",
    "\n",
    "                for descriptor in char.descriptors:\n",
    "                    try:\n",
    "                        value = bytes(\n",
    "                            await client.read_gatt_descriptor(descriptor.handle)\n",
    "                        )\n",
    "                        logger.info(f\"\\t\\t[Val Descriptor] {descriptor}) | Value: {value}\")\n",
    "                        logger.info(f\"\\t\\t[Len Descriptor] {descriptor}) | Value: {len(value)}\")\n",
    "\n",
    "                    except Exception as e:\n",
    "                        logger.error(f\"\\t\\t[Err Descriptor] {descriptor}) | Value: {e}\")"
   ],
   "metadata": {
    "collapsed": false,
    "pycharm": {
     "name": "#%%\n"
    }
   }
  },
  {
   "cell_type": "code",
   "execution_count": 4,
   "outputs": [],
   "source": [
    "\n",
    "ADDRESS = \"D0CC6BEC-3905-874A-CC20-5F94225A7D28\" # UUID - this works !!"
   ],
   "metadata": {
    "collapsed": false,
    "pycharm": {
     "name": "#%%\n"
    }
   }
  },
  {
   "cell_type": "code",
   "execution_count": 5,
   "outputs": [],
   "source": [
    "logging.basicConfig(level=logging.INFO)"
   ],
   "metadata": {
    "collapsed": false,
    "pycharm": {
     "name": "#%%\n"
    }
   }
  },
  {
   "cell_type": "code",
   "execution_count": 6,
   "outputs": [
    {
     "ename": "RuntimeError",
     "evalue": "asyncio.run() cannot be called from a running event loop",
     "output_type": "error",
     "traceback": [
      "\u001B[0;31m---------------------------------------------------------------------------\u001B[0m",
      "\u001B[0;31mRuntimeError\u001B[0m                              Traceback (most recent call last)",
      "Input \u001B[0;32mIn [6]\u001B[0m, in \u001B[0;36m<cell line: 1>\u001B[0;34m()\u001B[0m\n\u001B[0;32m----> 1\u001B[0m \u001B[43masyncio\u001B[49m\u001B[38;5;241;43m.\u001B[39;49m\u001B[43mrun\u001B[49m\u001B[43m(\u001B[49m\u001B[43mmain\u001B[49m\u001B[43m(\u001B[49m\u001B[43msys\u001B[49m\u001B[38;5;241;43m.\u001B[39;49m\u001B[43margv\u001B[49m\u001B[43m[\u001B[49m\u001B[38;5;241;43m1\u001B[39;49m\u001B[43m]\u001B[49m\u001B[43m \u001B[49m\u001B[38;5;28;43;01mif\u001B[39;49;00m\u001B[43m \u001B[49m\u001B[38;5;28;43mlen\u001B[39;49m\u001B[43m(\u001B[49m\u001B[43msys\u001B[49m\u001B[38;5;241;43m.\u001B[39;49m\u001B[43margv\u001B[49m\u001B[43m)\u001B[49m\u001B[43m \u001B[49m\u001B[38;5;241;43m==\u001B[39;49m\u001B[43m \u001B[49m\u001B[38;5;241;43m2\u001B[39;49m\u001B[43m \u001B[49m\u001B[38;5;28;43;01melse\u001B[39;49;00m\u001B[43m \u001B[49m\u001B[43mADDRESS\u001B[49m\u001B[43m)\u001B[49m\u001B[43m)\u001B[49m\n",
      "File \u001B[0;32m/usr/local/Cellar/python@3.9/3.9.13/Frameworks/Python.framework/Versions/3.9/lib/python3.9/asyncio/runners.py:33\u001B[0m, in \u001B[0;36mrun\u001B[0;34m(main, debug)\u001B[0m\n\u001B[1;32m      9\u001B[0m \u001B[38;5;124;03m\"\"\"Execute the coroutine and return the result.\u001B[39;00m\n\u001B[1;32m     10\u001B[0m \n\u001B[1;32m     11\u001B[0m \u001B[38;5;124;03mThis function runs the passed coroutine, taking care of\u001B[39;00m\n\u001B[0;32m   (...)\u001B[0m\n\u001B[1;32m     30\u001B[0m \u001B[38;5;124;03m    asyncio.run(main())\u001B[39;00m\n\u001B[1;32m     31\u001B[0m \u001B[38;5;124;03m\"\"\"\u001B[39;00m\n\u001B[1;32m     32\u001B[0m \u001B[38;5;28;01mif\u001B[39;00m events\u001B[38;5;241m.\u001B[39m_get_running_loop() \u001B[38;5;129;01mis\u001B[39;00m \u001B[38;5;129;01mnot\u001B[39;00m \u001B[38;5;28;01mNone\u001B[39;00m:\n\u001B[0;32m---> 33\u001B[0m     \u001B[38;5;28;01mraise\u001B[39;00m \u001B[38;5;167;01mRuntimeError\u001B[39;00m(\n\u001B[1;32m     34\u001B[0m         \u001B[38;5;124m\"\u001B[39m\u001B[38;5;124masyncio.run() cannot be called from a running event loop\u001B[39m\u001B[38;5;124m\"\u001B[39m)\n\u001B[1;32m     36\u001B[0m \u001B[38;5;28;01mif\u001B[39;00m \u001B[38;5;129;01mnot\u001B[39;00m coroutines\u001B[38;5;241m.\u001B[39miscoroutine(main):\n\u001B[1;32m     37\u001B[0m     \u001B[38;5;28;01mraise\u001B[39;00m \u001B[38;5;167;01mValueError\u001B[39;00m(\u001B[38;5;124m\"\u001B[39m\u001B[38;5;124ma coroutine was expected, got \u001B[39m\u001B[38;5;132;01m{!r}\u001B[39;00m\u001B[38;5;124m\"\u001B[39m\u001B[38;5;241m.\u001B[39mformat(main))\n",
      "\u001B[0;31mRuntimeError\u001B[0m: asyncio.run() cannot be called from a running event loop"
     ]
    }
   ],
   "source": [
    "asyncio.run(main(sys.argv[1] if len(sys.argv) == 2 else ADDRESS))"
   ],
   "metadata": {
    "collapsed": false,
    "pycharm": {
     "name": "#%%\n"
    }
   }
  },
  {
   "cell_type": "code",
   "execution_count": 17,
   "outputs": [
    {
     "data": {
      "text/plain": "<bleak.backends.service.BleakGATTServiceCollection at 0x106cb5640>"
     },
     "execution_count": 17,
     "metadata": {},
     "output_type": "execute_result"
    }
   ],
   "source": [
    "BleakClient(ADDRESS).services"
   ],
   "metadata": {
    "collapsed": false,
    "pycharm": {
     "name": "#%%\n"
    }
   }
  },
  {
   "cell_type": "code",
   "execution_count": 9,
   "outputs": [
    {
     "data": {
      "text/plain": "<bleak.backends.service.BleakGATTServiceCollection at 0x106d86a30>"
     },
     "execution_count": 9,
     "metadata": {},
     "output_type": "execute_result"
    }
   ],
   "source": [
    "client.services"
   ],
   "metadata": {
    "collapsed": false,
    "pycharm": {
     "name": "#%%\n"
    }
   }
  },
  {
   "cell_type": "code",
   "execution_count": 14,
   "outputs": [],
   "source": [
    "for char in  BleakClient(ADDRESS).services:\n",
    "    print( char )"
   ],
   "metadata": {
    "collapsed": false,
    "pycharm": {
     "name": "#%%\n"
    }
   }
  },
  {
   "cell_type": "code",
   "execution_count": 15,
   "outputs": [
    {
     "data": {
      "text/plain": "'D0CC6BEC-3905-874A-CC20-5F94225A7D28'"
     },
     "execution_count": 15,
     "metadata": {},
     "output_type": "execute_result"
    }
   ],
   "source": [
    "\n",
    "ADDRESS"
   ],
   "metadata": {
    "collapsed": false,
    "pycharm": {
     "name": "#%%\n"
    }
   }
  },
  {
   "cell_type": "code",
   "execution_count": 18,
   "outputs": [
    {
     "data": {
      "text/plain": "<bleak.backends.service.BleakGATTServiceCollection at 0x106c9f850>"
     },
     "execution_count": 18,
     "metadata": {},
     "output_type": "execute_result"
    }
   ],
   "source": [
    "BleakClient(ADDRESS).services\n"
   ],
   "metadata": {
    "collapsed": false,
    "pycharm": {
     "name": "#%%\n"
    }
   }
  },
  {
   "cell_type": "code",
   "execution_count": 22,
   "outputs": [
    {
     "data": {
      "text/plain": "<bleak.backends.service.BleakGATTServiceCollection at 0x106c9fe50>"
     },
     "execution_count": 22,
     "metadata": {},
     "output_type": "execute_result"
    }
   ],
   "source": [
    "( BleakClient(ADDRESS).services )"
   ],
   "metadata": {
    "collapsed": false,
    "pycharm": {
     "name": "#%%\n"
    }
   }
  },
  {
   "cell_type": "code",
   "execution_count": 26,
   "outputs": [
    {
     "data": {
      "text/plain": "False"
     },
     "execution_count": 26,
     "metadata": {},
     "output_type": "execute_result"
    }
   ],
   "source": [
    "BleakClient(ADDRESS).is_connected"
   ],
   "metadata": {
    "collapsed": false,
    "pycharm": {
     "name": "#%%\n"
    }
   }
  },
  {
   "cell_type": "code",
   "execution_count": 25,
   "outputs": [
    {
     "data": {
      "text/plain": "['_DeprecatedIsConnectedReturn',\n '__abstractmethods__',\n '__aenter__',\n '__aexit__',\n '__class__',\n '__delattr__',\n '__dict__',\n '__dir__',\n '__doc__',\n '__eq__',\n '__format__',\n '__ge__',\n '__getattribute__',\n '__gt__',\n '__hash__',\n '__init__',\n '__init_subclass__',\n '__le__',\n '__lt__',\n '__module__',\n '__ne__',\n '__new__',\n '__reduce__',\n '__reduce_ex__',\n '__repr__',\n '__setattr__',\n '__sizeof__',\n '__slots__',\n '__str__',\n '__subclasshook__',\n '__weakref__',\n '_abc_impl',\n '_central_manager_delegate',\n '_delegate',\n '_disconnected_callback',\n '_notification_callbacks',\n '_peripheral',\n '_services',\n '_services_resolved',\n '_timeout',\n 'address',\n 'connect',\n 'disconnect',\n 'get_rssi',\n 'get_services',\n 'is_connected',\n 'mtu_size',\n 'pair',\n 'read_gatt_char',\n 'read_gatt_descriptor',\n 'services',\n 'set_disconnected_callback',\n 'start_notify',\n 'stop_notify',\n 'unpair',\n 'write_gatt_char',\n 'write_gatt_descriptor']"
     },
     "execution_count": 25,
     "metadata": {},
     "output_type": "execute_result"
    }
   ],
   "source": [
    "dir( BleakClient(ADDRESS) )\n"
   ],
   "metadata": {
    "collapsed": false,
    "pycharm": {
     "name": "#%%\n"
    }
   }
  },
  {
   "cell_type": "code",
   "execution_count": 27,
   "outputs": [],
   "source": [
    "client = BleakClient(ADDRESS)\n"
   ],
   "metadata": {
    "collapsed": false,
    "pycharm": {
     "name": "#%%\n"
    }
   }
  },
  {
   "cell_type": "code",
   "execution_count": 28,
   "outputs": [
    {
     "data": {
      "text/plain": "False"
     },
     "execution_count": 28,
     "metadata": {},
     "output_type": "execute_result"
    }
   ],
   "source": [
    "client.is_connected\n"
   ],
   "metadata": {
    "collapsed": false,
    "pycharm": {
     "name": "#%%\n"
    }
   }
  },
  {
   "cell_type": "code",
   "execution_count": 29,
   "outputs": [
    {
     "data": {
      "text/plain": "<coroutine object BleakClientCoreBluetooth.connect at 0x106fee2c0>"
     },
     "execution_count": 29,
     "metadata": {},
     "output_type": "execute_result"
    }
   ],
   "source": [
    "client.connect()\n"
   ],
   "metadata": {
    "collapsed": false,
    "pycharm": {
     "name": "#%%\n"
    }
   }
  },
  {
   "cell_type": "code",
   "execution_count": 30,
   "outputs": [
    {
     "data": {
      "text/plain": "False"
     },
     "execution_count": 30,
     "metadata": {},
     "output_type": "execute_result"
    }
   ],
   "source": [
    "client.is_connected"
   ],
   "metadata": {
    "collapsed": false,
    "pycharm": {
     "name": "#%%\n"
    }
   }
  },
  {
   "cell_type": "code",
   "execution_count": 32,
   "outputs": [
    {
     "data": {
      "text/plain": "<coroutine object BleakClientCoreBluetooth.connect at 0x107045840>"
     },
     "execution_count": 32,
     "metadata": {},
     "output_type": "execute_result"
    }
   ],
   "source": [
    "client.connect()"
   ],
   "metadata": {
    "collapsed": false,
    "pycharm": {
     "name": "#%%\n"
    }
   }
  },
  {
   "cell_type": "code",
   "execution_count": 34,
   "outputs": [
    {
     "data": {
      "text/plain": "<bound method BleakClientCoreBluetooth.get_rssi of <BleakClientCoreBluetooth, D0CC6BEC-3905-874A-CC20-5F94225A7D28, <bleak.backends.corebluetooth.client.BleakClientCoreBluetooth object at 0x106d46e20>>>"
     },
     "execution_count": 34,
     "metadata": {},
     "output_type": "execute_result"
    }
   ],
   "source": [
    "client.get_rssi"
   ],
   "metadata": {
    "collapsed": false,
    "pycharm": {
     "name": "#%%\n"
    }
   }
  },
  {
   "cell_type": "code",
   "execution_count": 35,
   "outputs": [
    {
     "data": {
      "text/plain": "<coroutine object BleakClientCoreBluetooth.pair at 0x106fcc040>"
     },
     "execution_count": 35,
     "metadata": {},
     "output_type": "execute_result"
    }
   ],
   "source": [
    "client.pair()\n"
   ],
   "metadata": {
    "collapsed": false,
    "pycharm": {
     "name": "#%%\n"
    }
   }
  },
  {
   "cell_type": "code",
   "execution_count": 36,
   "outputs": [
    {
     "data": {
      "text/plain": "False"
     },
     "execution_count": 36,
     "metadata": {},
     "output_type": "execute_result"
    }
   ],
   "source": [
    "client.is_connected\n"
   ],
   "metadata": {
    "collapsed": false,
    "pycharm": {
     "name": "#%%\n"
    }
   }
  },
  {
   "cell_type": "code",
   "execution_count": 2,
   "outputs": [
    {
     "name": "stdout",
     "output_type": "stream",
     "text": [
      "8.3.0\r\n"
     ]
    }
   ],
   "source": [
    "!ipython --version"
   ],
   "metadata": {
    "collapsed": false,
    "pycharm": {
     "name": "#%%\n"
    }
   }
  },
  {
   "cell_type": "code",
   "execution_count": 3,
   "outputs": [],
   "source": [
    "import asyncio"
   ],
   "metadata": {
    "collapsed": false,
    "pycharm": {
     "name": "#%%\n"
    }
   }
  },
  {
   "cell_type": "code",
   "execution_count": 4,
   "outputs": [],
   "source": [
    "async def main():\n",
    "    print('hello')\n",
    "    await asyncio.sleep(2)\n",
    "    print('world')"
   ],
   "metadata": {
    "collapsed": false,
    "pycharm": {
     "name": "#%%\n"
    }
   }
  },
  {
   "cell_type": "code",
   "execution_count": 5,
   "outputs": [
    {
     "data": {
      "text/plain": "<_UnixSelectorEventLoop running=True closed=False debug=False>"
     },
     "execution_count": 5,
     "metadata": {},
     "output_type": "execute_result"
    }
   ],
   "source": [
    "asyncio.get_event_loop()"
   ],
   "metadata": {
    "collapsed": false,
    "pycharm": {
     "name": "#%%\n"
    }
   }
  },
  {
   "cell_type": "code",
   "execution_count": 6,
   "outputs": [
    {
     "data": {
      "text/plain": "<_UnixSelectorEventLoop running=True closed=False debug=False>"
     },
     "execution_count": 6,
     "metadata": {},
     "output_type": "execute_result"
    }
   ],
   "source": [
    "await asyncio.sleep(2)\n",
    "asyncio.get_event_loop()"
   ],
   "metadata": {
    "collapsed": false,
    "pycharm": {
     "name": "#%%\n"
    }
   }
  },
  {
   "cell_type": "code",
   "execution_count": 7,
   "outputs": [
    {
     "name": "stdout",
     "output_type": "stream",
     "text": [
      "hello\n",
      "world\n"
     ]
    }
   ],
   "source": [
    "# In Jupyter we already have a asyncio loop\n",
    "#\n",
    "# If we try to run this, we get an error\n",
    "#asyncio.run(main())\n",
    "# => asyncio.run() cannot be called from a running event loop\n",
    "#\n",
    "# Instead use following as long at iPython >= 7\n",
    "await main()\n",
    "# If iPython =5 then we get the error\n",
    "# => SyntaxError: 'await' outside function\n",
    "\n",
    "# If we see\n",
    "# <coroutine object main at 0x7f7fee86a3b0>\n",
    "# then NOT RUN and NOT INSIDE ASYNCIO\n",
    "\n",
    "# See discussion - https://stackoverflow.com/questions/55409641/asyncio-run-cannot-be-called-from-a-running-event-loop\n",
    "#\n",
    "# See also - https://ipython.readthedocs.io/en/stable/interactive/autoawait.html#difference-between-terminal-ipython-and-ipykernel\n",
    "# The exact asynchronous code running behavior varies between Terminal IPython and IPykernel. The root cause of this behavior is due to IPykernel having a persistent asyncio loop running, while Terminal IPython starts and stops a loop for each code block. This can lead to surprising behavior in some cases if you are used to manipulating asyncio loop yourself, see for example #11303 for a longer discussion but here are some of the astonishing cases.\n",
    "#"
   ],
   "metadata": {
    "collapsed": false,
    "pycharm": {
     "name": "#%%\n"
    }
   }
  },
  {
   "cell_type": "code",
   "execution_count": 8,
   "outputs": [],
   "source": [
    "from bleak import BleakClient"
   ],
   "metadata": {
    "collapsed": false,
    "pycharm": {
     "name": "#%%\n"
    }
   }
  },
  {
   "cell_type": "code",
   "execution_count": 26,
   "outputs": [],
   "source": [
    "from functools import partial\n",
    "\n",
    "timeout_period = 10.  # sec\n",
    "\n",
    "# you can change these to match your device or override them from the command line\n",
    "# 6e400003-b5a3-f393-e0a9-e50e24dcca9e\n",
    "\n",
    "class GoDice:\n",
    "    def __init__(self, ADDRESS, CHARACTERISTIC_UUID, COLOR):\n",
    "        self.address = ADDRESS\n",
    "        self.char_uuid = CHARACTERISTIC_UUID\n",
    "        self.color = COLOR\n",
    "\n",
    "    def __repr__(self):  # Representation\n",
    "        return (f\"Color:{self.color}, Address:{self.address}, Char:{self.char_uuid}\")\n",
    "\n",
    "    def __str__(self):  # For printing\n",
    "        return (f\"Color:{self.color}, Address:{self.address}, Char:{self.char_uuid}\")\n",
    "\n",
    "\n",
    "# Setup list of goDice\n",
    "listGoDice = []\n",
    "\n",
    "if 0:\n",
    "    listGoDice.append(GoDice(\n",
    "        COLOR='R'\n",
    "        , ADDRESS=\"D0CC6BEC-3905-874A-CC20-5F94225A7D28\"\n",
    "        , CHARACTERISTIC_UUID=\"6e400003-b5a3-f393-e0a9-e50e24dcca9e\"  # GoDice R - Possible channel to listen to\n",
    "    ))\n",
    "\n",
    "if 1:\n",
    "    listGoDice.append(GoDice(\n",
    "        COLOR='B'\n",
    "        , ADDRESS=\"9F38B8FD-4189-47C6-7E65-84C208ED9B3E\"\n",
    "        , CHARACTERISTIC_UUID=\"6e400003-b5a3-f393-e0a9-e50e24dcca9e\"  # GoDice R - Possible channel to listen to\n",
    "    ))"
   ],
   "metadata": {
    "collapsed": false,
    "pycharm": {
     "name": "#%%\n"
    }
   }
  },
  {
   "cell_type": "code",
   "execution_count": 27,
   "outputs": [],
   "source": [
    "# Simple notification handler which prints the data received.\n",
    "def notification_handler(sender, data):\n",
    "    print( f\"{sender}: {data}\" )\n",
    "\n",
    "# Notification callback with client awareness\n",
    "# https://bleak.readthedocs.io/en/latest/troubleshooting.html#pass-more-parameters-to-a-notify-callback\n",
    "def notification_handler_with_client_input(client: BleakClient, sender: int, data: bytearray):\n",
    "    print(\n",
    "        f\"Device {client.address},\"\n",
    "        f\"Char handle {client.services.get_characteristic(sender)},\"\n",
    "        f\"Data: {data}\"\n",
    "    )"
   ],
   "metadata": {
    "collapsed": false,
    "pycharm": {
     "name": "#%%\n"
    }
   }
  },
  {
   "cell_type": "code",
   "execution_count": 27,
   "outputs": [],
   "source": [],
   "metadata": {
    "collapsed": false,
    "pycharm": {
     "name": "#%%\n"
    }
   }
  },
  {
   "cell_type": "code",
   "execution_count": 28,
   "outputs": [
    {
     "data": {
      "text/plain": "[Color:B, Address:9F38B8FD-4189-47C6-7E65-84C208ED9B3E, Char:6e400003-b5a3-f393-e0a9-e50e24dcca9e]"
     },
     "execution_count": 28,
     "metadata": {},
     "output_type": "execute_result"
    }
   ],
   "source": [
    "listGoDice"
   ],
   "metadata": {
    "collapsed": false,
    "pycharm": {
     "name": "#%%\n"
    }
   }
  },
  {
   "cell_type": "markdown",
   "source": [],
   "metadata": {
    "collapsed": false,
    "pycharm": {
     "name": "#%% md\n"
    }
   }
  },
  {
   "cell_type": "code",
   "execution_count": 29,
   "outputs": [
    {
     "name": "stdout",
     "output_type": "stream",
     "text": [
      "\n",
      "Dice in List:\n",
      "Color:B, Address:9F38B8FD-4189-47C6-7E65-84C208ED9B3E, Char:6e400003-b5a3-f393-e0a9-e50e24dcca9e\n",
      "\n",
      "\n",
      "Notify: color = B\n",
      "  Connected = True\n",
      "Wait\n",
      "Stop: color = B\n"
     ]
    }
   ],
   "source": [
    "async def connect_and_notify( g ):\n",
    "    print(f\"Notify: color = {g.color}\")\n",
    "    # print(f\"address   = {g.address}\")\n",
    "    # print(f\"char_uuid = {g.char_uuid}\")\n",
    "\n",
    "    async with BleakClient(g.address) as client:\n",
    "    # client = BleakClient(g.address)\n",
    "        print(f\"  Connected = {client.is_connected}\")\n",
    "\n",
    "        await client.start_notify(\n",
    "            g.char_uuid  # char_specifier\n",
    "            , partial(notification_handler_with_client_input, client)  # Allows device to be identified\n",
    "        )\n",
    "\n",
    "        print( f\"Wait\" )\n",
    "        await asyncio.sleep( timeout_period )  # Wait for ?? secs to collect new state information\n",
    "\n",
    "        print(f\"Stop: color = {g.color}\")\n",
    "        # async with BleakClient(g.address) as client:\n",
    "        await client.stop_notify( g.char_uuid )\n",
    "\n",
    "\n",
    "\n",
    "async def main(listDevices):\n",
    "    print(\"\\nDice in List:\")\n",
    "    for g in listDevices:\n",
    "        print(g)\n",
    "    print(\"\\n\")\n",
    "\n",
    "    await asyncio.gather( *( connect_and_notify(g) for g in listDevices ) )\n",
    "\n",
    "await main( listGoDice )"
   ],
   "metadata": {
    "collapsed": false,
    "pycharm": {
     "name": "#%%\n"
    }
   }
  },
  {
   "cell_type": "code",
   "execution_count": null,
   "outputs": [],
   "source": [],
   "metadata": {
    "collapsed": false,
    "pycharm": {
     "name": "#%%\n"
    }
   }
  }
 ],
 "metadata": {
  "kernelspec": {
   "display_name": "Python 3",
   "language": "python",
   "name": "python3"
  },
  "language_info": {
   "codemirror_mode": {
    "name": "ipython",
    "version": 2
   },
   "file_extension": ".py",
   "mimetype": "text/x-python",
   "name": "python",
   "nbconvert_exporter": "python",
   "pygments_lexer": "ipython2",
   "version": "2.7.6"
  }
 },
 "nbformat": 4,
 "nbformat_minor": 0
}